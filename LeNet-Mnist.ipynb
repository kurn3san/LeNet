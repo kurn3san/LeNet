{
 "cells": [
  {
   "cell_type": "code",
   "execution_count": 3,
   "id": "signal-questionnaire",
   "metadata": {},
   "outputs": [],
   "source": [
    "import tensorflow as tf\n",
    "import matplotlib.pyplot as plt\n",
    "from tensorflow.keras import datasets, layers, models, losses"
   ]
  },
  {
   "cell_type": "code",
   "execution_count": 4,
   "id": "younger-latvia",
   "metadata": {},
   "outputs": [],
   "source": [
    "import numpy as np\n",
    "import csv "
   ]
  },
  {
   "cell_type": "code",
   "execution_count": 5,
   "id": "about-desperate",
   "metadata": {},
   "outputs": [],
   "source": [
    "(x_train,y_train),(x_test,y_test)=datasets.mnist.load_data()"
   ]
  },
  {
   "cell_type": "code",
   "execution_count": 6,
   "id": "established-throw",
   "metadata": {},
   "outputs": [
    {
     "data": {
      "text/plain": [
       "(60000, 28, 28)"
      ]
     },
     "execution_count": 6,
     "metadata": {},
     "output_type": "execute_result"
    }
   ],
   "source": [
    "x_train.shape"
   ]
  },
  {
   "cell_type": "code",
   "execution_count": 7,
   "id": "broken-resource",
   "metadata": {},
   "outputs": [
    {
     "data": {
      "text/plain": [
       "numpy.ndarray"
      ]
     },
     "execution_count": 7,
     "metadata": {},
     "output_type": "execute_result"
    }
   ],
   "source": [
    "type(x_train)"
   ]
  },
  {
   "cell_type": "code",
   "execution_count": 8,
   "id": "environmental-payroll",
   "metadata": {},
   "outputs": [
    {
     "data": {
      "text/plain": [
       "<matplotlib.image.AxesImage at 0x199ecb39a30>"
      ]
     },
     "execution_count": 8,
     "metadata": {},
     "output_type": "execute_result"
    },
    {
     "data": {
      "image/png": "[encoded data removed]",
      "text/plain": [
       "<Figure size 432x288 with 1 Axes>"
      ]
     },
     "metadata": {
      "needs_background": "light"
     },
     "output_type": "display_data"
    }
   ],
   "source": [
    "plt.imshow(x_train[0],cmap='gray')"
   ]
  },
  {
   "cell_type": "code",
   "execution_count": 9,
   "id": "chronic-launch",
   "metadata": {},
   "outputs": [
    {
     "data": {
      "text/plain": [
       "TensorShape([32, 32])"
      ]
     },
     "execution_count": 9,
     "metadata": {},
     "output_type": "execute_result"
    }
   ],
   "source": [
    "x_train = tf.pad(x_train, [[0, 0], [2,2], [2,2]])/255\n",
    "x_test = tf.pad(x_test, [[0, 0], [2,2], [2,2]])/255\n",
    "x_train.shape[1:]"
   ]
  },
  {
   "cell_type": "code",
   "execution_count": 10,
   "id": "charged-tension",
   "metadata": {},
   "outputs": [
    {
     "data": {
      "text/plain": [
       "<matplotlib.image.AxesImage at 0x199ecc756d0>"
      ]
     },
     "execution_count": 10,
     "metadata": {},
     "output_type": "execute_result"
    },
    {
     "data": {
      "image/png": "[encoded data removed]",
      "text/plain": [
       "<Figure size 432x288 with 1 Axes>"
      ]
     },
     "metadata": {
      "needs_background": "light"
     },
     "output_type": "display_data"
    }
   ],
   "source": [
    "plt.imshow(x_train[0],cmap='gray')"
   ]
  },
  {
   "cell_type": "code",
   "execution_count": 11,
   "id": "rapid-orbit",
   "metadata": {},
   "outputs": [
    {
     "data": {
      "text/plain": [
       "TensorShape([60000, 32, 32, 1])"
      ]
     },
     "execution_count": 11,
     "metadata": {},
     "output_type": "execute_result"
    }
   ],
   "source": [
    "x_train=tf.expand_dims(x_train,axis=3,name=None)\n",
    "x_test=tf.expand_dims(x_test,axis=3,name=None)\n",
    "x_train.shape"
   ]
  },
  {
   "cell_type": "code",
   "execution_count": 56,
   "id": "imported-tulsa",
   "metadata": {},
   "outputs": [
    {
     "data": {
      "text/plain": [
       "tensorflow.python.framework.ops.EagerTensor"
      ]
     },
     "execution_count": 56,
     "metadata": {},
     "output_type": "execute_result"
    }
   ],
   "source": [
    "type(x_train)"
   ]
  },
  {
   "cell_type": "code",
   "execution_count": 12,
   "id": "hindu-friday",
   "metadata": {},
   "outputs": [],
   "source": [
    "x_val=x_train[-2000:,:,:,:]\n",
    "y_val=y_train[-2000:]\n",
    "x_train=x_train[:-2000,:,:,:]\n",
    "y_train=y_train[:-2000]\n"
   ]
  },
  {
   "cell_type": "code",
   "execution_count": 13,
   "id": "representative-guidance",
   "metadata": {},
   "outputs": [
    {
     "data": {
      "text/plain": [
       "TensorShape([32, 32, 1])"
      ]
     },
     "execution_count": 13,
     "metadata": {},
     "output_type": "execute_result"
    }
   ],
   "source": [
    "x_train.shape[1:]"
   ]
  },
  {
   "cell_type": "code",
   "execution_count": 24,
   "id": "animated-modern",
   "metadata": {},
   "outputs": [
    {
     "name": "stdout",
     "output_type": "stream",
     "text": [
      "Model: \"sequential_1\"\n",
      "_________________________________________________________________\n",
      " Layer (type)                Output Shape              Param #   \n",
      "=================================================================\n",
      " conv2d_3 (Conv2D)           (None, 28, 28, 6)         156       \n",
      "                                                                 \n",
      " average_pooling2d_2 (Averag  (None, 14, 14, 6)        0         \n",
      " ePooling2D)                                                     \n",
      "                                                                 \n",
      " activation_2 (Activation)   (None, 14, 14, 6)         0         \n",
      "                                                                 \n",
      " conv2d_4 (Conv2D)           (None, 10, 10, 16)        2416      \n",
      "                                                                 \n",
      " average_pooling2d_3 (Averag  (None, 5, 5, 16)         0         \n",
      " ePooling2D)                                                     \n",
      "                                                                 \n",
      " activation_3 (Activation)   (None, 5, 5, 16)          0         \n",
      "                                                                 \n",
      " conv2d_5 (Conv2D)           (None, 1, 1, 120)         48120     \n",
      "                                                                 \n",
      " flatten_1 (Flatten)         (None, 120)               0         \n",
      "                                                                 \n",
      " dense_2 (Dense)             (None, 84)                10164     \n",
      "                                                                 \n",
      " dense_3 (Dense)             (None, 10)                850       \n",
      "                                                                 \n",
      "=================================================================\n",
      "Total params: 61,706\n",
      "Trainable params: 61,706\n",
      "Non-trainable params: 0\n",
      "_________________________________________________________________\n"
     ]
    }
   ],
   "source": [
    "model = models.Sequential()\n",
    "model.add(layers.Conv2D(6, 5, activation='tanh', input_shape=x_train.shape[1:]))\n",
    "model.add(layers.AveragePooling2D(2))\n",
    "model.add(layers.Activation('sigmoid'))\n",
    "model.add(layers.Conv2D(16, 5, activation='tanh'))\n",
    "model.add(layers.AveragePooling2D(2))\n",
    "model.add(layers.Activation('sigmoid'))\n",
    "model.add(layers.Conv2D(120, 5, activation='tanh'))\n",
    "model.add(layers.Flatten())\n",
    "model.add(layers.Dense(84, activation='tanh'))\n",
    "model.add(layers.Dense(10, activation='softmax'))\n",
    "model.summary()"
   ]
  },
  {
   "cell_type": "code",
   "execution_count": 25,
   "id": "desirable-poster",
   "metadata": {},
   "outputs": [],
   "source": [
    "model.compile(optimizer='adam',loss=losses.sparse_categorical_crossentropy,metrics=['accuracy'])\n"
   ]
  },
  {
   "cell_type": "code",
   "execution_count": 26,
   "id": "aquatic-slovenia",
   "metadata": {},
   "outputs": [
    {
     "name": "stdout",
     "output_type": "stream",
     "text": [
      "Epoch 1/40\n",
      "907/907 [==============================] - 14s 15ms/step - loss: 1.5631 - accuracy: 0.4238 - val_loss: 0.3429 - val_accuracy: 0.9010\n",
      "Epoch 2/40\n",
      "907/907 [==============================] - 13s 14ms/step - loss: 0.3629 - accuracy: 0.8863 - val_loss: 0.2075 - val_accuracy: 0.9425\n",
      "Epoch 3/40\n",
      "907/907 [==============================] - 17s 18ms/step - loss: 0.2719 - accuracy: 0.9144 - val_loss: 0.1456 - val_accuracy: 0.9615\n",
      "Epoch 4/40\n",
      "907/907 [==============================] - 13s 15ms/step - loss: 0.2304 - accuracy: 0.9265 - val_loss: 0.1530 - val_accuracy: 0.9565\n",
      "Epoch 5/40\n",
      "907/907 [==============================] - 13s 15ms/step - loss: 0.2001 - accuracy: 0.9367 - val_loss: 0.1351 - val_accuracy: 0.9570\n",
      "Epoch 6/40\n",
      "907/907 [==============================] - 14s 15ms/step - loss: 0.1793 - accuracy: 0.9434 - val_loss: 0.1153 - val_accuracy: 0.9720\n",
      "Epoch 7/40\n",
      "907/907 [==============================] - 15s 16ms/step - loss: 0.1619 - accuracy: 0.9490 - val_loss: 0.1081 - val_accuracy: 0.9730\n",
      "Epoch 8/40\n",
      "907/907 [==============================] - 15s 17ms/step - loss: 0.1457 - accuracy: 0.9536 - val_loss: 0.0907 - val_accuracy: 0.9735\n",
      "Epoch 9/40\n",
      "907/907 [==============================] - 15s 17ms/step - loss: 0.1388 - accuracy: 0.9554 - val_loss: 0.0992 - val_accuracy: 0.9745\n",
      "Epoch 10/40\n",
      "907/907 [==============================] - 15s 17ms/step - loss: 0.1236 - accuracy: 0.9608 - val_loss: 0.0884 - val_accuracy: 0.9745\n",
      "Epoch 11/40\n",
      "907/907 [==============================] - 15s 16ms/step - loss: 0.1186 - accuracy: 0.9626 - val_loss: 0.0959 - val_accuracy: 0.9735\n",
      "Epoch 12/40\n",
      "907/907 [==============================] - 15s 17ms/step - loss: 0.1119 - accuracy: 0.9648 - val_loss: 0.0824 - val_accuracy: 0.9815\n",
      "Epoch 13/40\n",
      "907/907 [==============================] - 15s 17ms/step - loss: 0.1077 - accuracy: 0.9661 - val_loss: 0.0753 - val_accuracy: 0.9830\n",
      "Epoch 14/40\n",
      "907/907 [==============================] - 15s 16ms/step - loss: 0.0999 - accuracy: 0.9682 - val_loss: 0.0755 - val_accuracy: 0.9805\n",
      "Epoch 15/40\n",
      "907/907 [==============================] - 15s 16ms/step - loss: 0.0956 - accuracy: 0.9699 - val_loss: 0.0674 - val_accuracy: 0.9845\n",
      "Epoch 16/40\n",
      "907/907 [==============================] - 15s 17ms/step - loss: 0.0900 - accuracy: 0.9718 - val_loss: 0.1138 - val_accuracy: 0.9720\n",
      "Epoch 17/40\n",
      "907/907 [==============================] - 15s 16ms/step - loss: 0.0885 - accuracy: 0.9722 - val_loss: 0.0706 - val_accuracy: 0.9810\n",
      "Epoch 18/40\n",
      "907/907 [==============================] - 15s 16ms/step - loss: 0.0820 - accuracy: 0.9738 - val_loss: 0.0751 - val_accuracy: 0.9795\n",
      "Epoch 19/40\n",
      "907/907 [==============================] - 15s 17ms/step - loss: 0.0788 - accuracy: 0.9751 - val_loss: 0.0878 - val_accuracy: 0.9790\n",
      "Epoch 20/40\n",
      "907/907 [==============================] - 15s 17ms/step - loss: 0.0783 - accuracy: 0.9746 - val_loss: 0.0686 - val_accuracy: 0.9830\n",
      "Epoch 21/40\n",
      "907/907 [==============================] - 15s 17ms/step - loss: 0.0753 - accuracy: 0.9759 - val_loss: 0.0827 - val_accuracy: 0.9815\n",
      "Epoch 22/40\n",
      "907/907 [==============================] - 15s 17ms/step - loss: 0.0700 - accuracy: 0.9775 - val_loss: 0.0612 - val_accuracy: 0.9870\n",
      "Epoch 23/40\n",
      "907/907 [==============================] - 15s 16ms/step - loss: 0.0690 - accuracy: 0.9775 - val_loss: 0.0827 - val_accuracy: 0.9795\n",
      "Epoch 24/40\n",
      "907/907 [==============================] - 15s 17ms/step - loss: 0.0686 - accuracy: 0.9786 - val_loss: 0.0592 - val_accuracy: 0.9840\n",
      "Epoch 25/40\n",
      "907/907 [==============================] - 15s 17ms/step - loss: 0.0664 - accuracy: 0.9793 - val_loss: 0.0616 - val_accuracy: 0.9845\n",
      "Epoch 26/40\n",
      "907/907 [==============================] - 15s 17ms/step - loss: 0.0643 - accuracy: 0.9789 - val_loss: 0.0606 - val_accuracy: 0.9850\n",
      "Epoch 27/40\n",
      "907/907 [==============================] - 15s 17ms/step - loss: 0.0623 - accuracy: 0.9800 - val_loss: 0.0598 - val_accuracy: 0.9855\n",
      "Epoch 28/40\n",
      "907/907 [==============================] - 15s 17ms/step - loss: 0.0593 - accuracy: 0.9810 - val_loss: 0.0653 - val_accuracy: 0.9845\n",
      "Epoch 29/40\n",
      "907/907 [==============================] - 15s 17ms/step - loss: 0.0577 - accuracy: 0.9816 - val_loss: 0.0625 - val_accuracy: 0.9855\n",
      "Epoch 30/40\n",
      "907/907 [==============================] - 15s 16ms/step - loss: 0.0591 - accuracy: 0.9807 - val_loss: 0.0540 - val_accuracy: 0.9890\n",
      "Epoch 31/40\n",
      "907/907 [==============================] - 15s 16ms/step - loss: 0.0579 - accuracy: 0.9804 - val_loss: 0.0695 - val_accuracy: 0.9845\n",
      "Epoch 32/40\n",
      "907/907 [==============================] - 15s 16ms/step - loss: 0.0556 - accuracy: 0.9819 - val_loss: 0.0568 - val_accuracy: 0.9875\n",
      "Epoch 33/40\n",
      "907/907 [==============================] - 15s 17ms/step - loss: 0.0505 - accuracy: 0.9836 - val_loss: 0.0599 - val_accuracy: 0.9840\n",
      "Epoch 34/40\n",
      "907/907 [==============================] - 16s 17ms/step - loss: 0.0517 - accuracy: 0.9827 - val_loss: 0.0601 - val_accuracy: 0.9845\n",
      "Epoch 35/40\n",
      "907/907 [==============================] - 15s 17ms/step - loss: 0.0515 - accuracy: 0.9829 - val_loss: 0.0667 - val_accuracy: 0.9835\n",
      "Epoch 36/40\n",
      "907/907 [==============================] - 15s 17ms/step - loss: 0.0485 - accuracy: 0.9843 - val_loss: 0.0551 - val_accuracy: 0.9860\n",
      "Epoch 37/40\n",
      "907/907 [==============================] - 16s 17ms/step - loss: 0.0465 - accuracy: 0.9854 - val_loss: 0.0571 - val_accuracy: 0.9880\n",
      "Epoch 38/40\n",
      "907/907 [==============================] - 15s 16ms/step - loss: 0.0478 - accuracy: 0.9848 - val_loss: 0.0606 - val_accuracy: 0.9865\n",
      "Epoch 39/40\n",
      "907/907 [==============================] - 13s 14ms/step - loss: 0.0453 - accuracy: 0.9844 - val_loss: 0.0729 - val_accuracy: 0.9815\n",
      "Epoch 40/40\n",
      "907/907 [==============================] - 13s 14ms/step - loss: 0.0465 - accuracy: 0.9843 - val_loss: 0.0666 - val_accuracy: 0.9845\n"
     ]
    }
   ],
   "source": [
    "history=model.fit(x_train,y_train,batch_size=64,epochs=40,validation_data=(x_val,y_val))\n"
   ]
  },
  {
   "cell_type": "code",
   "execution_count": 27,
   "id": "identified-guess",
   "metadata": {},
   "outputs": [
    {
     "data": {
      "text/plain": [
       "{'loss': [1.5631062984466553,\n",
       "  0.3628595173358917,\n",
       "  0.2719396650791168,\n",
       "  0.23044520616531372,\n",
       "  0.20008793473243713,\n",
       "  0.17931053042411804,\n",
       "  0.16189272701740265,\n",
       "  0.14569173753261566,\n",
       "  0.1387515366077423,\n",
       "  0.1236322820186615,\n",
       "  0.11856351792812347,\n",
       "  0.11194215714931488,\n",
       "  0.10772982984781265,\n",
       "  0.09985656291246414,\n",
       "  0.09564525634050369,\n",
       "  0.08996038883924484,\n",
       "  0.08845983445644379,\n",
       "  0.08200416713953018,\n",
       "  0.07883331179618835,\n",
       "  0.07832814007997513,\n",
       "  0.07529140263795853,\n",
       "  0.06998762488365173,\n",
       "  0.06900744140148163,\n",
       "  0.06859195977449417,\n",
       "  0.06641115248203278,\n",
       "  0.06428318470716476,\n",
       "  0.062316183000802994,\n",
       "  0.05934767797589302,\n",
       "  0.057699646800756454,\n",
       "  0.059063706547021866,\n",
       "  0.057946208864450455,\n",
       "  0.055599767714738846,\n",
       "  0.050535961985588074,\n",
       "  0.05171491205692291,\n",
       "  0.05151703953742981,\n",
       "  0.04851241037249565,\n",
       "  0.04646490141749382,\n",
       "  0.04775933176279068,\n",
       "  0.045313429087400436,\n",
       "  0.04648754373192787],\n",
       " 'accuracy': [0.423827588558197,\n",
       "  0.886344850063324,\n",
       "  0.9143792986869812,\n",
       "  0.9265000224113464,\n",
       "  0.9366723895072937,\n",
       "  0.9434137940406799,\n",
       "  0.9489827752113342,\n",
       "  0.9536034464836121,\n",
       "  0.9554482698440552,\n",
       "  0.9608448147773743,\n",
       "  0.9626034498214722,\n",
       "  0.9648103713989258,\n",
       "  0.9660689830780029,\n",
       "  0.9682241082191467,\n",
       "  0.9699137806892395,\n",
       "  0.9717931151390076,\n",
       "  0.9721551537513733,\n",
       "  0.9738103151321411,\n",
       "  0.9750862121582031,\n",
       "  0.9745689630508423,\n",
       "  0.9758965373039246,\n",
       "  0.9775172472000122,\n",
       "  0.9774827361106873,\n",
       "  0.9786034226417542,\n",
       "  0.9793103337287903,\n",
       "  0.9788793325424194,\n",
       "  0.9800344705581665,\n",
       "  0.9810344576835632,\n",
       "  0.981586217880249,\n",
       "  0.9807241559028625,\n",
       "  0.980448305606842,\n",
       "  0.9819138050079346,\n",
       "  0.9836207032203674,\n",
       "  0.9826551675796509,\n",
       "  0.9828965663909912,\n",
       "  0.9842931032180786,\n",
       "  0.9853965640068054,\n",
       "  0.9847758412361145,\n",
       "  0.9843965768814087,\n",
       "  0.9843103289604187],\n",
       " 'val_loss': [0.34287557005882263,\n",
       "  0.20747709274291992,\n",
       "  0.14564105868339539,\n",
       "  0.15297706425189972,\n",
       "  0.13509376347064972,\n",
       "  0.11525499075651169,\n",
       "  0.1081291064620018,\n",
       "  0.09073460102081299,\n",
       "  0.09919542819261551,\n",
       "  0.08839239180088043,\n",
       "  0.09592346847057343,\n",
       "  0.08236554265022278,\n",
       "  0.07534057646989822,\n",
       "  0.07551522552967072,\n",
       "  0.06739723682403564,\n",
       "  0.11376561969518661,\n",
       "  0.07058499753475189,\n",
       "  0.07511580735445023,\n",
       "  0.08778434246778488,\n",
       "  0.06860274821519852,\n",
       "  0.08268643915653229,\n",
       "  0.061157818883657455,\n",
       "  0.08267539739608765,\n",
       "  0.05917355418205261,\n",
       "  0.06162479147315025,\n",
       "  0.0605788379907608,\n",
       "  0.05983339250087738,\n",
       "  0.06530614197254181,\n",
       "  0.06251205503940582,\n",
       "  0.05397506058216095,\n",
       "  0.06946896761655807,\n",
       "  0.056818727403879166,\n",
       "  0.059880755841732025,\n",
       "  0.06006210297346115,\n",
       "  0.06665217876434326,\n",
       "  0.05509968474507332,\n",
       "  0.057061899453401566,\n",
       "  0.06057104095816612,\n",
       "  0.07287117838859558,\n",
       "  0.066612109541893],\n",
       " 'val_accuracy': [0.9010000228881836,\n",
       "  0.9424999952316284,\n",
       "  0.9614999890327454,\n",
       "  0.9564999938011169,\n",
       "  0.9570000171661377,\n",
       "  0.972000002861023,\n",
       "  0.9729999899864197,\n",
       "  0.9735000133514404,\n",
       "  0.9745000004768372,\n",
       "  0.9745000004768372,\n",
       "  0.9735000133514404,\n",
       "  0.9815000295639038,\n",
       "  0.9829999804496765,\n",
       "  0.9804999828338623,\n",
       "  0.984499990940094,\n",
       "  0.972000002861023,\n",
       "  0.9810000061988831,\n",
       "  0.9794999957084656,\n",
       "  0.9789999723434448,\n",
       "  0.9829999804496765,\n",
       "  0.9815000295639038,\n",
       "  0.9869999885559082,\n",
       "  0.9794999957084656,\n",
       "  0.984000027179718,\n",
       "  0.984499990940094,\n",
       "  0.9850000143051147,\n",
       "  0.9854999780654907,\n",
       "  0.984499990940094,\n",
       "  0.9854999780654907,\n",
       "  0.9890000224113464,\n",
       "  0.984499990940094,\n",
       "  0.987500011920929,\n",
       "  0.984000027179718,\n",
       "  0.984499990940094,\n",
       "  0.9835000038146973,\n",
       "  0.9860000014305115,\n",
       "  0.9879999756813049,\n",
       "  0.9865000247955322,\n",
       "  0.9815000295639038,\n",
       "  0.984499990940094]}"
      ]
     },
     "execution_count": 27,
     "metadata": {},
     "output_type": "execute_result"
    }
   ],
   "source": [
    "history.history"
   ]
  },
  {
   "cell_type": "code",
   "execution_count": 28,
   "id": "light-railway",
   "metadata": {},
   "outputs": [
    {
     "data": {
      "text/plain": [
       "<matplotlib.legend.Legend at 0x19986afea30>"
      ]
     },
     "execution_count": 28,
     "metadata": {},
     "output_type": "execute_result"
    },
    {
     "data": {
      "image/png": "[encoded data removed]",
      "text/plain": [
       "<Figure size 1080x1080 with 2 Axes>"
      ]
     },
     "metadata": {
      "needs_background": "light"
     },
     "output_type": "display_data"
    }
   ],
   "source": [
    "fig, axs = plt.subplots(2, 1, figsize=(15,15))\n",
    "axs[0].plot(history.history['loss'])\n",
    "axs[0].plot(history.history['val_loss'])\n",
    "axs[0].title.set_text('Training Loss vs Validation Loss')\n",
    "axs[0].legend(['Train', 'Val'])\n",
    "axs[1].plot(history.history['accuracy'])\n",
    "axs[1].plot(history.history['val_accuracy'])\n",
    "axs[1].title.set_text('Training Accuracy vs Validation Accuracy')\n",
    "axs[1].legend(['Train', 'Val'])\n"
   ]
  },
  {
   "cell_type": "code",
   "execution_count": 29,
   "id": "seasonal-billion",
   "metadata": {},
   "outputs": [
    {
     "name": "stdout",
     "output_type": "stream",
     "text": [
      "313/313 [==============================] - ETA: 0s - loss: 0.0729 - accuracy: 0.97 - 1s 4ms/step - loss: 0.0733 - accuracy: 0.9775\n"
     ]
    },
    {
     "data": {
      "text/plain": [
       "[0.07326621562242508, 0.9775000214576721]"
      ]
     },
     "execution_count": 29,
     "metadata": {},
     "output_type": "execute_result"
    }
   ],
   "source": [
    "model.evaluate(x_test,y_test)"
   ]
  },
  {
   "cell_type": "code",
   "execution_count": 35,
   "id": "gorgeous-bride",
   "metadata": {},
   "outputs": [],
   "source": [
    "from tensorflow.keras.models import Sequential, save_model, load_model\n"
   ]
  },
  {
   "cell_type": "code",
   "execution_count": 36,
   "id": "dense-gambling",
   "metadata": {},
   "outputs": [
    {
     "name": "stdout",
     "output_type": "stream",
     "text": [
      "INFO:tensorflow:Assets written to: ./assets\n"
     ]
    }
   ],
   "source": [
    "# Save the model\n",
    "save_model(model, './')"
   ]
  },
  {
   "cell_type": "code",
   "execution_count": 46,
   "id": "returning-breach",
   "metadata": {},
   "outputs": [],
   "source": [
    "from PIL import Image\n",
    "image=Image.open(\"4.jpg\").convert('L')\n",
    "image.save('4_grayscaled.jpg')\n",
    "image.show()"
   ]
  },
  {
   "cell_type": "code",
   "execution_count": 47,
   "id": "unusual-waters",
   "metadata": {},
   "outputs": [
    {
     "data": {
      "text/plain": [
       "(32, 32)"
      ]
     },
     "execution_count": 47,
     "metadata": {},
     "output_type": "execute_result"
    }
   ],
   "source": [
    "imdata=np.asarray(image)\n",
    "imdata.shape"
   ]
  },
  {
   "cell_type": "code",
   "execution_count": 48,
   "id": "documented-fitness",
   "metadata": {},
   "outputs": [
    {
     "data": {
      "text/plain": [
       "array([[255, 255, 255, ..., 255, 255, 255],\n",
       "       [255, 255, 255, ..., 255, 255, 255],\n",
       "       [255, 255, 253, ..., 255, 255, 255],\n",
       "       ...,\n",
       "       [255, 255, 255, ..., 255, 255, 255],\n",
       "       [255, 255, 255, ..., 255, 255, 255],\n",
       "       [255, 255, 255, ..., 255, 255, 255]], dtype=uint8)"
      ]
     },
     "execution_count": 48,
     "metadata": {},
     "output_type": "execute_result"
    }
   ],
   "source": [
    "imdata"
   ]
  },
  {
   "cell_type": "code",
   "execution_count": 57,
   "id": "received-ministry",
   "metadata": {},
   "outputs": [
    {
     "name": "stdout",
     "output_type": "stream",
     "text": [
      "(32, 32, 1)\n"
     ]
    }
   ],
   "source": [
    "print(imdata[...,np.newaxis].shape)"
   ]
  },
  {
   "cell_type": "code",
   "execution_count": 68,
   "id": "introductory-listening",
   "metadata": {},
   "outputs": [],
   "source": [
    "ml=[]"
   ]
  },
  {
   "cell_type": "code",
   "execution_count": 72,
   "id": "executed-flashing",
   "metadata": {},
   "outputs": [
    {
     "data": {
      "text/plain": [
       "(4, 32, 32)"
      ]
     },
     "execution_count": 72,
     "metadata": {},
     "output_type": "execute_result"
    }
   ],
   "source": [
    "ml.append(imdata)\n",
    "sample=np.array(ml)\n",
    "sample.shape"
   ]
  },
  {
   "cell_type": "code",
   "execution_count": 73,
   "id": "isolated-extraction",
   "metadata": {
    "collapsed": true
   },
   "outputs": [
    {
     "data": {
      "text/plain": [
       "array([[[255, 255, 255, ..., 255, 255, 255],\n",
       "        [255, 255, 255, ..., 255, 255, 255],\n",
       "        [255, 255, 253, ..., 255, 255, 255],\n",
       "        ...,\n",
       "        [255, 255, 255, ..., 255, 255, 255],\n",
       "        [255, 255, 255, ..., 255, 255, 255],\n",
       "        [255, 255, 255, ..., 255, 255, 255]],\n",
       "\n",
       "       [[255, 255, 255, ..., 255, 255, 255],\n",
       "        [255, 255, 255, ..., 255, 255, 255],\n",
       "        [255, 255, 253, ..., 255, 255, 255],\n",
       "        ...,\n",
       "        [255, 255, 255, ..., 255, 255, 255],\n",
       "        [255, 255, 255, ..., 255, 255, 255],\n",
       "        [255, 255, 255, ..., 255, 255, 255]],\n",
       "\n",
       "       [[255, 255, 255, ..., 255, 255, 255],\n",
       "        [255, 255, 255, ..., 255, 255, 255],\n",
       "        [255, 255, 253, ..., 255, 255, 255],\n",
       "        ...,\n",
       "        [255, 255, 255, ..., 255, 255, 255],\n",
       "        [255, 255, 255, ..., 255, 255, 255],\n",
       "        [255, 255, 255, ..., 255, 255, 255]],\n",
       "\n",
       "       [[255, 255, 255, ..., 255, 255, 255],\n",
       "        [255, 255, 255, ..., 255, 255, 255],\n",
       "        [255, 255, 253, ..., 255, 255, 255],\n",
       "        ...,\n",
       "        [255, 255, 255, ..., 255, 255, 255],\n",
       "        [255, 255, 255, ..., 255, 255, 255],\n",
       "        [255, 255, 255, ..., 255, 255, 255]]], dtype=uint8)"
      ]
     },
     "execution_count": 73,
     "metadata": {},
     "output_type": "execute_result"
    }
   ],
   "source": [
    "sample"
   ]
  },
  {
   "cell_type": "code",
   "execution_count": 82,
   "id": "deluxe-breed",
   "metadata": {},
   "outputs": [],
   "source": [
    "prediction = model.predict(sample)"
   ]
  },
  {
   "cell_type": "code",
   "execution_count": 83,
   "id": "musical-avatar",
   "metadata": {},
   "outputs": [
    {
     "name": "stdout",
     "output_type": "stream",
     "text": [
      "[5 5 5 5]\n"
     ]
    }
   ],
   "source": [
    "classes = np.argmax(prediction, axis = 1)\n",
    "print(classes)"
   ]
  },
  {
   "cell_type": "code",
   "execution_count": null,
   "id": "centered-ethernet",
   "metadata": {},
   "outputs": [],
   "source": []
  }
 ],
 "metadata": {
  "kernelspec": {
   "display_name": "Python 3 (ipykernel)",
   "language": "python",
   "name": "python3"
  },
  "language_info": {
   "codemirror_mode": {
    "name": "ipython",
    "version": 3
   },
   "file_extension": ".py",
   "mimetype": "text/x-python",
   "name": "python",
   "nbconvert_exporter": "python",
   "pygments_lexer": "ipython3",
   "version": "3.9.6"
  }
 },
 "nbformat": 4,
 "nbformat_minor": 5
}
