{
 "cells": [
  {
   "cell_type": "code",
   "execution_count": 84,
   "id": "signal-questionnaire",
   "metadata": {},
   "outputs": [],
   "source": [
    "import tensorflow as tf\n",
    "import matplotlib.pyplot as plt\n",
    "from tensorflow.keras import datasets, layers, models, losses"
   ]
  },
  {
   "cell_type": "code",
   "execution_count": 85,
   "id": "younger-latvia",
   "metadata": {},
   "outputs": [],
   "source": [
    "import numpy as np\n",
    "import csv "
   ]
  },
  {
   "cell_type": "code",
   "execution_count": 86,
   "id": "about-desperate",
   "metadata": {},
   "outputs": [],
   "source": [
    "(x_train,y_train),(x_test,y_test)=datasets.mnist.load_data()"
   ]
  },
  {
   "cell_type": "code",
   "execution_count": 87,
   "id": "established-throw",
   "metadata": {},
   "outputs": [
    {
     "data": {
      "text/plain": [
       "(60000, 28, 28)"
      ]
     },
     "execution_count": 87,
     "metadata": {},
     "output_type": "execute_result"
    }
   ],
   "source": [
    "x_train.shape"
   ]
  },
  {
   "cell_type": "code",
   "execution_count": 88,
   "id": "broken-resource",
   "metadata": {},
   "outputs": [
    {
     "data": {
      "text/plain": [
       "numpy.ndarray"
      ]
     },
     "execution_count": 88,
     "metadata": {},
     "output_type": "execute_result"
    }
   ],
   "source": [
    "type(x_train)"
   ]
  },
  {
   "cell_type": "code",
   "execution_count": 89,
   "id": "environmental-payroll",
   "metadata": {},
   "outputs": [
    {
     "data": {
      "text/plain": [
       "<matplotlib.image.AxesImage at 0x1aa03faaa30>"
      ]
     },
     "execution_count": 89,
     "metadata": {},
     "output_type": "execute_result"
    },
    {
     "data": {
      "image/png": "[encoded data removed]",
      "text/plain": [
       "<Figure size 432x288 with 1 Axes>"
      ]
     },
     "metadata": {
      "needs_background": "light"
     },
     "output_type": "display_data"
    }
   ],
   "source": [
    "plt.imshow(x_train[0],cmap='gray')"
   ]
  },
  {
   "cell_type": "code",
   "execution_count": 90,
   "id": "chronic-launch",
   "metadata": {},
   "outputs": [
    {
     "data": {
      "text/plain": [
       "TensorShape([32, 32])"
      ]
     },
     "execution_count": 90,
     "metadata": {},
     "output_type": "execute_result"
    }
   ],
   "source": [
    "x_train = tf.pad(x_train, [[0, 0], [2,2], [2,2]])/255\n",
    "x_test = tf.pad(x_test, [[0, 0], [2,2], [2,2]])/255\n",
    "x_train.shape[1:]"
   ]
  },
  {
   "cell_type": "code",
   "execution_count": 91,
   "id": "charged-tension",
   "metadata": {},
   "outputs": [
    {
     "data": {
      "text/plain": [
       "<matplotlib.image.AxesImage at 0x1aa040deca0>"
      ]
     },
     "execution_count": 91,
     "metadata": {},
     "output_type": "execute_result"
    },
    {
     "data": {
      "image/png": "[encoded data removed]",
      "text/plain": [
       "<Figure size 432x288 with 1 Axes>"
      ]
     },
     "metadata": {
      "needs_background": "light"
     },
     "output_type": "display_data"
    }
   ],
   "source": [
    "plt.imshow(x_train[0],cmap='gray')"
   ]
  },
  {
   "cell_type": "code",
   "execution_count": 92,
   "id": "rapid-orbit",
   "metadata": {},
   "outputs": [
    {
     "data": {
      "text/plain": [
       "TensorShape([60000, 32, 32, 1])"
      ]
     },
     "execution_count": 92,
     "metadata": {},
     "output_type": "execute_result"
    }
   ],
   "source": [
    "x_train=tf.expand_dims(x_train,axis=3,name=None)\n",
    "x_test=tf.expand_dims(x_test,axis=3,name=None)\n",
    "x_train.shape"
   ]
  },
  {
   "cell_type": "code",
   "execution_count": 93,
   "id": "hindu-friday",
   "metadata": {},
   "outputs": [],
   "source": [
    "x_val=x_train[-2000:,:,:,:]\n",
    "y_val=y_train[-2000:]\n",
    "x_train=x_train[:-2000,:,:,:]\n",
    "y_train=y_train[:-2000]\n"
   ]
  },
  {
   "cell_type": "code",
   "execution_count": 94,
   "id": "representative-guidance",
   "metadata": {},
   "outputs": [
    {
     "data": {
      "text/plain": [
       "TensorShape([32, 32, 1])"
      ]
     },
     "execution_count": 94,
     "metadata": {},
     "output_type": "execute_result"
    }
   ],
   "source": [
    "x_train.shape[1:]"
   ]
  },
  {
   "cell_type": "code",
   "execution_count": 95,
   "id": "animated-modern",
   "metadata": {},
   "outputs": [
    {
     "name": "stdout",
     "output_type": "stream",
     "text": [
      "Model: \"sequential_8\"\n",
      "_________________________________________________________________\n",
      " Layer (type)                Output Shape              Param #   \n",
      "=================================================================\n",
      " conv2d_15 (Conv2D)          (None, 28, 28, 6)         156       \n",
      "                                                                 \n",
      " average_pooling2d_8 (Averag  (None, 14, 14, 6)        0         \n",
      " ePooling2D)                                                     \n",
      "                                                                 \n",
      " activation_8 (Activation)   (None, 14, 14, 6)         0         \n",
      "                                                                 \n",
      " conv2d_16 (Conv2D)          (None, 10, 10, 16)        2416      \n",
      "                                                                 \n",
      " average_pooling2d_9 (Averag  (None, 5, 5, 16)         0         \n",
      " ePooling2D)                                                     \n",
      "                                                                 \n",
      " activation_9 (Activation)   (None, 5, 5, 16)          0         \n",
      "                                                                 \n",
      " conv2d_17 (Conv2D)          (None, 1, 1, 120)         48120     \n",
      "                                                                 \n",
      " flatten_2 (Flatten)         (None, 120)               0         \n",
      "                                                                 \n",
      " dense_4 (Dense)             (None, 84)                10164     \n",
      "                                                                 \n",
      " dense_5 (Dense)             (None, 10)                850       \n",
      "                                                                 \n",
      "=================================================================\n",
      "Total params: 61,706\n",
      "Trainable params: 61,706\n",
      "Non-trainable params: 0\n",
      "_________________________________________________________________\n"
     ]
    }
   ],
   "source": [
    "model = models.Sequential()\n",
    "model.add(layers.Conv2D(6, 5, activation='tanh', input_shape=x_train.shape[1:]))\n",
    "model.add(layers.AveragePooling2D(2))\n",
    "model.add(layers.Activation('sigmoid'))\n",
    "model.add(layers.Conv2D(16, 5, activation='tanh'))\n",
    "model.add(layers.AveragePooling2D(2))\n",
    "model.add(layers.Activation('sigmoid'))\n",
    "model.add(layers.Conv2D(120, 5, activation='tanh'))\n",
    "model.add(layers.Flatten())\n",
    "model.add(layers.Dense(84, activation='tanh'))\n",
    "model.add(layers.Dense(10, activation='softmax'))\n",
    "model.summary()"
   ]
  },
  {
   "cell_type": "code",
   "execution_count": 96,
   "id": "desirable-poster",
   "metadata": {},
   "outputs": [],
   "source": [
    "model.compile(optimizer='adam',loss=losses.sparse_categorical_crossentropy,metrics=['accuracy'])\n"
   ]
  },
  {
   "cell_type": "code",
   "execution_count": 97,
   "id": "aquatic-slovenia",
   "metadata": {},
   "outputs": [
    {
     "name": "stdout",
     "output_type": "stream",
     "text": [
      "Epoch 1/40\n",
      "907/907 [==============================] - 12s 12ms/step - loss: 1.7010 - accuracy: 0.3681\n",
      "Epoch 2/40\n",
      "907/907 [==============================] - 12s 13ms/step - loss: 0.3768 - accuracy: 0.8832\n",
      "Epoch 3/40\n",
      "907/907 [==============================] - 12s 13ms/step - loss: 0.2748 - accuracy: 0.9134\n",
      "Epoch 4/40\n",
      "907/907 [==============================] - 12s 13ms/step - loss: 0.2284 - accuracy: 0.9277\n",
      "Epoch 5/40\n",
      "907/907 [==============================] - 12s 13ms/step - loss: 0.1968 - accuracy: 0.9380\n",
      "Epoch 6/40\n",
      "907/907 [==============================] - 12s 13ms/step - loss: 0.1703 - accuracy: 0.9451\n",
      "Epoch 7/40\n",
      "907/907 [==============================] - 12s 13ms/step - loss: 0.1595 - accuracy: 0.9499\n",
      "Epoch 8/40\n",
      "907/907 [==============================] - 12s 13ms/step - loss: 0.1479 - accuracy: 0.9533\n",
      "Epoch 9/40\n",
      "907/907 [==============================] - 13s 15ms/step - loss: 0.1372 - accuracy: 0.9563\n",
      "Epoch 10/40\n",
      "907/907 [==============================] - 12s 13ms/step - loss: 0.1291 - accuracy: 0.9590\n",
      "Epoch 11/40\n",
      "907/907 [==============================] - 12s 13ms/step - loss: 0.1233 - accuracy: 0.9603\n",
      "Epoch 12/40\n",
      "907/907 [==============================] - 12s 13ms/step - loss: 0.1134 - accuracy: 0.9636\n",
      "Epoch 13/40\n",
      "907/907 [==============================] - 12s 13ms/step - loss: 0.1117 - accuracy: 0.9646\n",
      "Epoch 14/40\n",
      "907/907 [==============================] - 12s 13ms/step - loss: 0.1046 - accuracy: 0.9669\n",
      "Epoch 15/40\n",
      "907/907 [==============================] - 13s 14ms/step - loss: 0.1002 - accuracy: 0.9685\n",
      "Epoch 16/40\n",
      "907/907 [==============================] - 12s 14ms/step - loss: 0.0979 - accuracy: 0.9683\n",
      "Epoch 17/40\n",
      "907/907 [==============================] - 14s 16ms/step - loss: 0.0943 - accuracy: 0.9705\n",
      "Epoch 18/40\n",
      "907/907 [==============================] - 12s 14ms/step - loss: 0.0909 - accuracy: 0.9711\n",
      "Epoch 19/40\n",
      "907/907 [==============================] - 13s 14ms/step - loss: 0.0911 - accuracy: 0.9716\n",
      "Epoch 20/40\n",
      "907/907 [==============================] - 12s 13ms/step - loss: 0.0841 - accuracy: 0.9733\n",
      "Epoch 21/40\n",
      "907/907 [==============================] - 14s 15ms/step - loss: 0.0844 - accuracy: 0.9735\n",
      "Epoch 22/40\n",
      "907/907 [==============================] - 14s 15ms/step - loss: 0.0826 - accuracy: 0.9738\n",
      "Epoch 23/40\n",
      "907/907 [==============================] - 12s 13ms/step - loss: 0.0778 - accuracy: 0.9747\n",
      "Epoch 24/40\n",
      "907/907 [==============================] - 13s 15ms/step - loss: 0.0757 - accuracy: 0.9761\n",
      "Epoch 25/40\n",
      "907/907 [==============================] - 14s 15ms/step - loss: 0.0740 - accuracy: 0.9765\n",
      "Epoch 26/40\n",
      "907/907 [==============================] - 14s 15ms/step - loss: 0.0758 - accuracy: 0.9753\n",
      "Epoch 27/40\n",
      "907/907 [==============================] - 18s 20ms/step - loss: 0.0740 - accuracy: 0.9769\n",
      "Epoch 28/40\n",
      "907/907 [==============================] - 16s 17ms/step - loss: 0.0698 - accuracy: 0.9772\n",
      "Epoch 29/40\n",
      "907/907 [==============================] - 17s 19ms/step - loss: 0.0680 - accuracy: 0.9780\n",
      "Epoch 30/40\n",
      "907/907 [==============================] - 17s 19ms/step - loss: 0.0661 - accuracy: 0.9789\n",
      "Epoch 31/40\n",
      "907/907 [==============================] - 17s 19ms/step - loss: 0.0643 - accuracy: 0.9793\n",
      "Epoch 32/40\n",
      "907/907 [==============================] - 17s 19ms/step - loss: 0.0657 - accuracy: 0.9784\n",
      "Epoch 33/40\n",
      "907/907 [==============================] - 17s 19ms/step - loss: 0.0635 - accuracy: 0.9796\n",
      "Epoch 34/40\n",
      "907/907 [==============================] - 18s 19ms/step - loss: 0.0640 - accuracy: 0.9796\n",
      "Epoch 35/40\n",
      "907/907 [==============================] - 17s 19ms/step - loss: 0.0602 - accuracy: 0.9807\n",
      "Epoch 36/40\n",
      "907/907 [==============================] - 17s 19ms/step - loss: 0.0564 - accuracy: 0.9823\n",
      "Epoch 37/40\n",
      "907/907 [==============================] - 18s 20ms/step - loss: 0.0580 - accuracy: 0.9814\n",
      "Epoch 38/40\n",
      "907/907 [==============================] - 18s 20ms/step - loss: 0.0554 - accuracy: 0.9826\n",
      "Epoch 39/40\n",
      "907/907 [==============================] - 18s 20ms/step - loss: 0.0581 - accuracy: 0.9813\n",
      "Epoch 40/40\n",
      "907/907 [==============================] - 18s 20ms/step - loss: 0.0569 - accuracy: 0.9813\n"
     ]
    }
   ],
   "source": [
    "history=model.fit(x_train,y_train,batch_size=64,epochs=40)\n",
    "validation_data=(x_val,y_val)"
   ]
  },
  {
   "cell_type": "code",
   "execution_count": null,
   "id": "light-railway",
   "metadata": {},
   "outputs": [],
   "source": []
  }
 ],
 "metadata": {
  "kernelspec": {
   "display_name": "Python 3 (ipykernel)",
   "language": "python",
   "name": "python3"
  },
  "language_info": {
   "codemirror_mode": {
    "name": "ipython",
    "version": 3
   },
   "file_extension": ".py",
   "mimetype": "text/x-python",
   "name": "python",
   "nbconvert_exporter": "python",
   "pygments_lexer": "ipython3",
   "version": "3.9.6"
  }
 },
 "nbformat": 4,
 "nbformat_minor": 5
}
